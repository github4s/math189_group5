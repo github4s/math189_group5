{
 "cells": [
  {
   "cell_type": "markdown",
   "metadata": {},
   "source": [
    "## BERT for English and Spanish text\n",
    "- BERT (Bidirectional Encoder Representations from Transformers) predicts the sentiment of a sentence by looking at the whole sentence, unlike NLTK which pays attention to singular tokens in a sentence. It can understand how each word affects the sentence, and how this changes the sentiment. This way, it is also influenced by by the feelings in the sentence like sarcasm or negation, and hence our speculation that it's more accurate than NLTK\n",
    "- After being fine-tuned on our data, BERT predicts the label of the sentiment of the sentence, rather than giving a sentiment score like NLTK. So we wouldn't need to create a scale for the labels.\n",
    "- It uses a next word prediction algorithm, similar to that of chatGPT, by encoding 15% of the sentences and adding noise, and learning how to decode it via the training process. \n",
    "- We used a pre-trained model from hugging face called bert base uncased. It was pre-trained on english text in a supervised manner and is not affected by the casing of the tokens, i.e, 'Word' is considered the same as 'word'. "
   ]
  },
  {
   "cell_type": "code",
   "execution_count": 1,
   "metadata": {
    "executionInfo": {
     "elapsed": 15167,
     "status": "ok",
     "timestamp": 1709850010126,
     "user": {
      "displayName": "Siddharth Vyasabattu",
      "userId": "09523631954102609222"
     },
     "user_tz": 480
    },
    "id": "yOuIbtkULzS-",
    "scrolled": true
   },
   "outputs": [
    {
     "name": "stderr",
     "output_type": "stream",
     "text": [
      "2024-03-14 03:52:34.131987: I tensorflow/core/platform/cpu_feature_guard.cc:182] This TensorFlow binary is optimized to use available CPU instructions in performance-critical operations.\n",
      "To enable the following instructions: AVX2 FMA, in other operations, rebuild TensorFlow with the appropriate compiler flags.\n"
     ]
    }
   ],
   "source": [
    "import os\n",
    "import shutil\n",
    "import tarfile\n",
    "import tensorflow as tf\n",
    "\n",
    "from tensorflow.keras.optimizers import Adam\n",
    "from transformers import BertTokenizer, TFBertForSequenceClassification\n",
    "\n",
    "import numpy as np\n",
    "import pandas as pd\n",
    "import random\n",
    "\n",
    "import matplotlib.pyplot as plt\n",
    "import plotly.express as px\n",
    "import plotly.offline as pyo\n",
    "import plotly.graph_objects as go\n",
    "\n",
    "from sklearn.model_selection import train_test_split\n",
    "from sklearn.metrics import classification_report\n",
    "\n",
    "# Not required but useful\n",
    "from transformers import logging\n",
    "logging.set_verbosity_error()\n",
    "\n",
    "from tqdm.notebook import tqdm\n",
    "tqdm.pandas()"
   ]
  },
  {
   "cell_type": "code",
   "execution_count": 1,
   "metadata": {
    "scrolled": true
   },
   "outputs": [],
   "source": [
    "#!pip install transformers\n"
   ]
  },
  {
   "cell_type": "markdown",
   "metadata": {},
   "source": [
    "# Data Cleaning"
   ]
  },
  {
   "cell_type": "code",
   "execution_count": 3,
   "metadata": {
    "executionInfo": {
     "elapsed": 2939,
     "status": "ok",
     "timestamp": 1709850013064,
     "user": {
      "displayName": "Siddharth Vyasabattu",
      "userId": "09523631954102609222"
     },
     "user_tz": 480
    },
    "id": "cZGASxYBMhi-"
   },
   "outputs": [],
   "source": [
    "df = pd.read_csv('IMDB Dataset SPANISH.csv', encoding='utf8')\n",
    "df = df[['review_en', 'review_es', 'sentiment']]"
   ]
  },
  {
   "cell_type": "code",
   "execution_count": 4,
   "metadata": {
    "colab": {
     "base_uri": "https://localhost:8080/",
     "height": 424
    },
    "executionInfo": {
     "elapsed": 1642,
     "status": "ok",
     "timestamp": 1709850014695,
     "user": {
      "displayName": "Siddharth Vyasabattu",
      "userId": "09523631954102609222"
     },
     "user_tz": 480
    },
    "id": "zmwW1B8QMm_N",
    "outputId": "1cae1010-534c-4dde-bb5e-7d406b073ec7"
   },
   "outputs": [
    {
     "data": {
      "text/html": [
       "<div>\n",
       "<style scoped>\n",
       "    .dataframe tbody tr th:only-of-type {\n",
       "        vertical-align: middle;\n",
       "    }\n",
       "\n",
       "    .dataframe tbody tr th {\n",
       "        vertical-align: top;\n",
       "    }\n",
       "\n",
       "    .dataframe thead th {\n",
       "        text-align: right;\n",
       "    }\n",
       "</style>\n",
       "<table border=\"1\" class=\"dataframe\">\n",
       "  <thead>\n",
       "    <tr style=\"text-align: right;\">\n",
       "      <th></th>\n",
       "      <th>review_en</th>\n",
       "      <th>review_es</th>\n",
       "      <th>sentiment</th>\n",
       "    </tr>\n",
       "  </thead>\n",
       "  <tbody>\n",
       "    <tr>\n",
       "      <th>0</th>\n",
       "      <td>One of the other reviewers has mentioned that ...</td>\n",
       "      <td>Uno de los otros críticos ha mencionado que de...</td>\n",
       "      <td>positive</td>\n",
       "    </tr>\n",
       "    <tr>\n",
       "      <th>1</th>\n",
       "      <td>A wonderful little production. The filming tec...</td>\n",
       "      <td>Una pequeña pequeña producción.La técnica de f...</td>\n",
       "      <td>positive</td>\n",
       "    </tr>\n",
       "    <tr>\n",
       "      <th>2</th>\n",
       "      <td>I thought this was a wonderful way to spend ti...</td>\n",
       "      <td>Pensé que esta era una manera maravillosa de p...</td>\n",
       "      <td>positive</td>\n",
       "    </tr>\n",
       "    <tr>\n",
       "      <th>3</th>\n",
       "      <td>Basically there's a family where a little boy ...</td>\n",
       "      <td>Básicamente, hay una familia donde un niño peq...</td>\n",
       "      <td>negative</td>\n",
       "    </tr>\n",
       "    <tr>\n",
       "      <th>4</th>\n",
       "      <td>Petter Mattei's \"Love in the Time of Money\" is...</td>\n",
       "      <td>El \"amor en el tiempo\" de Petter Mattei es una...</td>\n",
       "      <td>positive</td>\n",
       "    </tr>\n",
       "  </tbody>\n",
       "</table>\n",
       "</div>"
      ],
      "text/plain": [
       "                                           review_en  \\\n",
       "0  One of the other reviewers has mentioned that ...   \n",
       "1  A wonderful little production. The filming tec...   \n",
       "2  I thought this was a wonderful way to spend ti...   \n",
       "3  Basically there's a family where a little boy ...   \n",
       "4  Petter Mattei's \"Love in the Time of Money\" is...   \n",
       "\n",
       "                                           review_es sentiment  \n",
       "0  Uno de los otros críticos ha mencionado que de...  positive  \n",
       "1  Una pequeña pequeña producción.La técnica de f...  positive  \n",
       "2  Pensé que esta era una manera maravillosa de p...  positive  \n",
       "3  Básicamente, hay una familia donde un niño peq...  negative  \n",
       "4  El \"amor en el tiempo\" de Petter Mattei es una...  positive  "
      ]
     },
     "execution_count": 4,
     "metadata": {},
     "output_type": "execute_result"
    }
   ],
   "source": [
    "df.head()"
   ]
  },
  {
   "cell_type": "code",
   "execution_count": 5,
   "metadata": {},
   "outputs": [],
   "source": [
    "# Change sample size here\n",
    "train_n = 5000\n",
    "test_n = 5000"
   ]
  },
  {
   "cell_type": "code",
   "execution_count": 6,
   "metadata": {
    "executionInfo": {
     "elapsed": 5,
     "status": "ok",
     "timestamp": 1709850027557,
     "user": {
      "displayName": "Siddharth Vyasabattu",
      "userId": "09523631954102609222"
     },
     "user_tz": 480
    },
    "id": "CaMM3eGy-t-5"
   },
   "outputs": [],
   "source": [
    "# Splits data between train(60%) and test(40%)\n",
    "random.seed(42)\n",
    "\n",
    "train_df = df.sample(train_n, random_state=42) #df[['review_en', 'sentiment', 'review_es']].iloc[train_indices]\n",
    "test_df = (df[~df.isin(train_df)].dropna()).sample(test_n, random_state=42) #[['review_en', 'sentiment', 'review_es']].iloc[test_indices]"
   ]
  },
  {
   "cell_type": "markdown",
   "metadata": {
    "id": "kSGAbJh_RW_3"
   },
   "source": [
    "## Sentiment Analysis: English"
   ]
  },
  {
   "cell_type": "code",
   "execution_count": 8,
   "metadata": {
    "executionInfo": {
     "elapsed": 408,
     "status": "ok",
     "timestamp": 1709850031623,
     "user": {
      "displayName": "Siddharth Vyasabattu",
      "userId": "09523631954102609222"
     },
     "user_tz": 480
    },
    "id": "9kGjbdzuS4KT"
   },
   "outputs": [],
   "source": [
    "# Splits train between train(40%) and validation(20%)\n",
    "x_train_eng, x_val_eng, y_train_eng, y_val_eng = train_test_split(\n",
    "                                                    train_df['review_en'],\n",
    "                                                    train_df['sentiment'],\n",
    "                                                    test_size=0.25,\n",
    "                                                    stratify = train_df['sentiment'],\n",
    "                                                    random_state=42\n",
    "                                                )"
   ]
  },
  {
   "cell_type": "code",
   "execution_count": 9,
   "metadata": {
    "id": "pInPvaltPpgB"
   },
   "outputs": [
    {
     "name": "stderr",
     "output_type": "stream",
     "text": [
      "2024-03-14 03:52:54.546847: I tensorflow/core/common_runtime/gpu/gpu_device.cc:1639] Created device /job:localhost/replica:0/task:0/device:GPU:0 with 10174 MB memory:  -> device: 0, name: NVIDIA A30 MIG 2g.12gb, pci bus id: 0000:c3:00.0, compute capability: 8.0\n"
     ]
    }
   ],
   "source": [
    "# Tokenizes and encodes the sentences for training\n",
    "tokenizer = BertTokenizer.from_pretrained('bert-base-uncased', do_lower_case=True)\n",
    "max_len= 128\n",
    "\n",
    "X_train_encoded_eng = tokenizer.batch_encode_plus(x_train_eng.tolist(),\n",
    "                                              padding=True,\n",
    "                                              truncation=True,\n",
    "                                              max_length = max_len,\n",
    "                                              return_tensors='tf')\n",
    "\n",
    "X_val_encoded_eng = tokenizer.batch_encode_plus(x_val_eng.tolist(),\n",
    "                                              padding=True,\n",
    "                                              truncation=True,\n",
    "                                              max_length = max_len,\n",
    "                                              return_tensors='tf')"
   ]
  },
  {
   "cell_type": "code",
   "execution_count": 10,
   "metadata": {
    "id": "3059M_YmVvzi"
   },
   "outputs": [],
   "source": [
    "# Gets model and fine-tunes\n",
    "LEARNING_RATE = 5e-5\n",
    "\n",
    "model = TFBertForSequenceClassification.from_pretrained('bert-base-uncased', num_labels=2)\n",
    "\n",
    "optimizer = tf.keras.optimizers.legacy.Adam(learning_rate=LEARNING_RATE)\n",
    "loss = tf.keras.losses.SparseCategoricalCrossentropy(from_logits=True)\n",
    "metric = tf.keras.metrics.SparseCategoricalAccuracy('accuracy')\n",
    "\n",
    "model.compile(optimizer=optimizer,\n",
    "              loss=loss,\n",
    "              metrics=[metric])"
   ]
  },
  {
   "cell_type": "code",
   "execution_count": 11,
   "metadata": {},
   "outputs": [],
   "source": [
    "# Cleans datasets for model fitting\n",
    "train_dataset = tf.data.Dataset.from_tensor_slices((\n",
    "    dict(X_train_encoded_eng),\n",
    "    y_train_eng.apply(lambda x: True if x=='positive' else False)\n",
    "))\n",
    "\n",
    "test_dataset = tf.data.Dataset.from_tensor_slices((\n",
    "    dict(X_val_encoded_eng),\n",
    "    y_val_eng.apply(lambda x: True if x=='positive' else False)\n",
    "))\n"
   ]
  },
  {
   "cell_type": "markdown",
   "metadata": {},
   "source": [
    "- Epoch = total number of training iterations\n",
    "- We used 4 as we observed that training loss was decreasing but the validation loss stopped at the 4th epoch."
   ]
  },
  {
   "cell_type": "code",
   "execution_count": 12,
   "metadata": {},
   "outputs": [
    {
     "name": "stdout",
     "output_type": "stream",
     "text": [
      "Epoch 1/4\n",
      "  1/235 [..............................] - ETA: 53:28 - loss: 0.6893 - accuracy: 0.4375"
     ]
    },
    {
     "name": "stderr",
     "output_type": "stream",
     "text": [
      "2024-03-14 03:53:13.172169: I tensorflow/compiler/xla/stream_executor/cuda/cuda_blas.cc:606] TensorFloat-32 will be used for the matrix multiplication. This will only be logged once.\n"
     ]
    },
    {
     "name": "stdout",
     "output_type": "stream",
     "text": [
      "235/235 [==============================] - 55s 176ms/step - loss: 0.4462 - accuracy: 0.7824 - val_loss: 0.3863 - val_accuracy: 0.8184\n",
      "Epoch 2/4\n",
      "235/235 [==============================] - 39s 167ms/step - loss: 0.2269 - accuracy: 0.9123 - val_loss: 0.4606 - val_accuracy: 0.8264\n",
      "Epoch 3/4\n",
      "235/235 [==============================] - 39s 168ms/step - loss: 0.1318 - accuracy: 0.9539 - val_loss: 0.8067 - val_accuracy: 0.7736\n",
      "Epoch 4/4\n",
      "235/235 [==============================] - 39s 168ms/step - loss: 0.1184 - accuracy: 0.9573 - val_loss: 0.5121 - val_accuracy: 0.8400\n"
     ]
    }
   ],
   "source": [
    "# Fits model based on data\n",
    "history = model.fit(train_dataset.batch(16),\n",
    "              epochs=4,\n",
    "              batch_size=16,\n",
    "              validation_data=test_dataset.batch(16))"
   ]
  },
  {
   "cell_type": "code",
   "execution_count": 14,
   "metadata": {},
   "outputs": [
    {
     "name": "stdout",
     "output_type": "stream",
     "text": [
      "dict_keys(['loss', 'accuracy', 'val_loss', 'val_accuracy'])\n"
     ]
    }
   ],
   "source": [
    "history_dict = history.history\n",
    "print(history_dict.keys())"
   ]
  },
  {
   "cell_type": "code",
   "execution_count": 15,
   "metadata": {},
   "outputs": [
    {
     "name": "stdout",
     "output_type": "stream",
     "text": [
      "{'loss': [0.44616207480430603, 0.22691364586353302, 0.13184481859207153, 0.11838480830192566], 'accuracy': [0.7824000120162964, 0.9122666716575623, 0.9538666605949402, 0.9573333263397217], 'val_loss': [0.3863130211830139, 0.4606159031391144, 0.8067473769187927, 0.5120529532432556], 'val_accuracy': [0.8184000253677368, 0.8263999819755554, 0.7735999822616577, 0.8399999737739563]}\n"
     ]
    }
   ],
   "source": [
    "print(history_dict)"
   ]
  },
  {
   "cell_type": "code",
   "execution_count": 16,
   "metadata": {},
   "outputs": [
    {
     "data": {
      "image/png": "[encoded data removed]",
      "text/plain": [
       "<Figure size 720x432 with 2 Axes>"
      ]
     },
     "metadata": {
      "needs_background": "light"
     },
     "output_type": "display_data"
    }
   ],
   "source": [
    "acc = history_dict['accuracy']\n",
    "val_acc = history_dict['val_accuracy']\n",
    "loss = history_dict['loss']\n",
    "val_loss = history_dict['val_loss']\n",
    "\n",
    "epochs = range(1, len(acc) + 1)\n",
    "fig = plt.figure(figsize=(10, 6))\n",
    "fig.tight_layout()\n",
    "\n",
    "plt.subplot(2, 1, 1)\n",
    "# r is for \"solid red line\"\n",
    "plt.plot(epochs, loss, 'r', label='Training loss')\n",
    "# b is for \"solid blue line\"\n",
    "plt.plot(epochs, val_loss, 'b', label='Validation loss')\n",
    "plt.title('Training and validation loss')\n",
    "# plt.xlabel('Epochs')\n",
    "plt.ylabel('Loss')\n",
    "plt.legend()\n",
    "\n",
    "plt.subplot(2, 1, 2)\n",
    "plt.plot(epochs, acc, 'r', label='Training acc')\n",
    "plt.plot(epochs, val_acc, 'b', label='Validation acc')\n",
    "plt.title('Training and validation accuracy')\n",
    "plt.xlabel('Epochs')\n",
    "plt.ylabel('Accuracy')\n",
    "plt.legend(loc='lower right')\n",
    "\n",
    "plt.show()"
   ]
  },
  {
   "cell_type": "code",
   "execution_count": 19,
   "metadata": {},
   "outputs": [
    {
     "data": {
      "text/plain": [
       "'positive'"
      ]
     },
     "execution_count": 19,
     "metadata": {},
     "output_type": "execute_result"
    }
   ],
   "source": [
    "# Predicts sentiment based on model\n",
    "def predict(test_sentence):\n",
    "    pred_input = tokenizer.encode(\n",
    "        test_sentence,\n",
    "        truncation=True,\n",
    "        padding=True,\n",
    "        return_tensors=\"tf\"\n",
    "    )\n",
    "\n",
    "    tf_output = model.predict(pred_input, verbose=False)[0]\n",
    "    tf_prediction = tf.nn.softmax(tf_output, axis=1)\n",
    "    labels = ['negative','positive'] #(0:negative, 1:positive)\n",
    "    label = tf.argmax(tf_prediction, axis=1)\n",
    "    label = label.numpy()\n",
    "    return labels[label[0]]\n",
    "\n",
    "test_sentence = 'What a lovely and beautiful day'\n",
    "predict(test_sentence)"
   ]
  },
  {
   "cell_type": "code",
   "execution_count": 20,
   "metadata": {
    "scrolled": true
   },
   "outputs": [
    {
     "data": {
      "application/vnd.jupyter.widget-view+json": {
       "model_id": "fd7596bd9d4142aeabce6c04161efcdd",
       "version_major": 2,
       "version_minor": 0
      },
      "text/plain": [
       "  0%|          | 0/5000 [00:00<?, ?it/s]"
      ]
     },
     "metadata": {},
     "output_type": "display_data"
    },
    {
     "data": {
      "text/plain": [
       "0.8872"
      ]
     },
     "execution_count": 20,
     "metadata": {},
     "output_type": "execute_result"
    }
   ],
   "source": [
    "# Gets BERT sentiment and accuracy\n",
    "test_df['bert_en_sentiment'] = test_df['review_en'].progress_apply(predict)\n",
    "test_df.query('sentiment == bert_en_sentiment').shape[0]/test_df.shape[0]"
   ]
  },
  {
   "cell_type": "code",
   "execution_count": 21,
   "metadata": {
    "scrolled": true
   },
   "outputs": [
    {
     "data": {
      "text/html": [
       "<div>\n",
       "<style scoped>\n",
       "    .dataframe tbody tr th:only-of-type {\n",
       "        vertical-align: middle;\n",
       "    }\n",
       "\n",
       "    .dataframe tbody tr th {\n",
       "        vertical-align: top;\n",
       "    }\n",
       "\n",
       "    .dataframe thead th {\n",
       "        text-align: right;\n",
       "    }\n",
       "</style>\n",
       "<table border=\"1\" class=\"dataframe\">\n",
       "  <thead>\n",
       "    <tr style=\"text-align: right;\">\n",
       "      <th></th>\n",
       "      <th>review_en</th>\n",
       "      <th>review_es</th>\n",
       "      <th>sentiment</th>\n",
       "      <th>bert_en_sentiment</th>\n",
       "    </tr>\n",
       "  </thead>\n",
       "  <tbody>\n",
       "    <tr>\n",
       "      <th>42187</th>\n",
       "      <td>I had high hopes when I went into the theatre-...</td>\n",
       "      <td>Tenía grandes esperanzas cuando entré en el te...</td>\n",
       "      <td>negative</td>\n",
       "      <td>negative</td>\n",
       "    </tr>\n",
       "    <tr>\n",
       "      <th>10971</th>\n",
       "      <td>Black Day Blue Night was actually good modern ...</td>\n",
       "      <td>La noche azul del día negro fue en realidad un...</td>\n",
       "      <td>positive</td>\n",
       "      <td>positive</td>\n",
       "    </tr>\n",
       "    <tr>\n",
       "      <th>48213</th>\n",
       "      <td>*THIS REVIEW MAY CONTAIN SPOILERS... OR MAYBE ...</td>\n",
       "      <td>* Esta revisión puede contener spoilers ... o ...</td>\n",
       "      <td>negative</td>\n",
       "      <td>negative</td>\n",
       "    </tr>\n",
       "    <tr>\n",
       "      <th>15325</th>\n",
       "      <td>Despite the mysteriously positive reviews and ...</td>\n",
       "      <td>A pesar de las críticas misteriosamente positi...</td>\n",
       "      <td>negative</td>\n",
       "      <td>negative</td>\n",
       "    </tr>\n",
       "    <tr>\n",
       "      <th>49798</th>\n",
       "      <td>...\"Flight of the Living Dead\" sports producti...</td>\n",
       "      <td>... \"Vuelo de los muertos vivos\" Valores de pr...</td>\n",
       "      <td>negative</td>\n",
       "      <td>negative</td>\n",
       "    </tr>\n",
       "    <tr>\n",
       "      <th>...</th>\n",
       "      <td>...</td>\n",
       "      <td>...</td>\n",
       "      <td>...</td>\n",
       "      <td>...</td>\n",
       "    </tr>\n",
       "    <tr>\n",
       "      <th>22812</th>\n",
       "      <td>Boogie Nights was without a doubt the best fil...</td>\n",
       "      <td>Boogie Nights fue sin duda la mejor película d...</td>\n",
       "      <td>positive</td>\n",
       "      <td>positive</td>\n",
       "    </tr>\n",
       "    <tr>\n",
       "      <th>8422</th>\n",
       "      <td>After watching Tipping the Velvet by Sarah wat...</td>\n",
       "      <td>After watching Tipping the Velvet by Sarah wat...</td>\n",
       "      <td>positive</td>\n",
       "      <td>positive</td>\n",
       "    </tr>\n",
       "    <tr>\n",
       "      <th>11356</th>\n",
       "      <td>I caught this movie right in my eye when I was...</td>\n",
       "      <td>Cogí esta película a la derecha en mi ojo cuan...</td>\n",
       "      <td>positive</td>\n",
       "      <td>positive</td>\n",
       "    </tr>\n",
       "    <tr>\n",
       "      <th>48106</th>\n",
       "      <td>\"October Sky\" is a film that will steal your h...</td>\n",
       "      <td>\"Octubre Sky\" es una película que le robará el...</td>\n",
       "      <td>positive</td>\n",
       "      <td>positive</td>\n",
       "    </tr>\n",
       "    <tr>\n",
       "      <th>42219</th>\n",
       "      <td>My main comment on this movie is how Zwick was...</td>\n",
       "      <td>Mi comentario principal en esta película es ¿c...</td>\n",
       "      <td>negative</td>\n",
       "      <td>negative</td>\n",
       "    </tr>\n",
       "  </tbody>\n",
       "</table>\n",
       "<p>5000 rows × 4 columns</p>\n",
       "</div>"
      ],
      "text/plain": [
       "                                               review_en  \\\n",
       "42187  I had high hopes when I went into the theatre-...   \n",
       "10971  Black Day Blue Night was actually good modern ...   \n",
       "48213  *THIS REVIEW MAY CONTAIN SPOILERS... OR MAYBE ...   \n",
       "15325  Despite the mysteriously positive reviews and ...   \n",
       "49798  ...\"Flight of the Living Dead\" sports producti...   \n",
       "...                                                  ...   \n",
       "22812  Boogie Nights was without a doubt the best fil...   \n",
       "8422   After watching Tipping the Velvet by Sarah wat...   \n",
       "11356  I caught this movie right in my eye when I was...   \n",
       "48106  \"October Sky\" is a film that will steal your h...   \n",
       "42219  My main comment on this movie is how Zwick was...   \n",
       "\n",
       "                                               review_es sentiment  \\\n",
       "42187  Tenía grandes esperanzas cuando entré en el te...  negative   \n",
       "10971  La noche azul del día negro fue en realidad un...  positive   \n",
       "48213  * Esta revisión puede contener spoilers ... o ...  negative   \n",
       "15325  A pesar de las críticas misteriosamente positi...  negative   \n",
       "49798  ... \"Vuelo de los muertos vivos\" Valores de pr...  negative   \n",
       "...                                                  ...       ...   \n",
       "22812  Boogie Nights fue sin duda la mejor película d...  positive   \n",
       "8422   After watching Tipping the Velvet by Sarah wat...  positive   \n",
       "11356  Cogí esta película a la derecha en mi ojo cuan...  positive   \n",
       "48106  \"Octubre Sky\" es una película que le robará el...  positive   \n",
       "42219  Mi comentario principal en esta película es ¿c...  negative   \n",
       "\n",
       "      bert_en_sentiment  \n",
       "42187          negative  \n",
       "10971          positive  \n",
       "48213          negative  \n",
       "15325          negative  \n",
       "49798          negative  \n",
       "...                 ...  \n",
       "22812          positive  \n",
       "8422           positive  \n",
       "11356          positive  \n",
       "48106          positive  \n",
       "42219          negative  \n",
       "\n",
       "[5000 rows x 4 columns]"
      ]
     },
     "execution_count": 21,
     "metadata": {},
     "output_type": "execute_result"
    }
   ],
   "source": [
    "test_df"
   ]
  },
  {
   "cell_type": "code",
   "execution_count": 22,
   "metadata": {},
   "outputs": [
    {
     "data": {
      "image/png": "[encoded data removed]",
      "text/plain": [
       "<Figure size 720x504 with 2 Axes>"
      ]
     },
     "metadata": {
      "needs_background": "light"
     },
     "output_type": "display_data"
    }
   ],
   "source": [
    "from sklearn.metrics import confusion_matrix\n",
    "import seaborn as sns\n",
    "import matplotlib.pyplot as plt\n",
    "\n",
    "conf_matrix = confusion_matrix(test_df['sentiment'], test_df['bert_en_sentiment'])\n",
    "\n",
    "conf_matrix_df = pd.DataFrame(conf_matrix, \n",
    "                              index=['True Neg', 'True Pos'], \n",
    "                              columns=['Predicted Neg', 'Predicted Pos'])\n",
    "\n",
    "plt.figure(figsize=(10,7))\n",
    "sns.heatmap(conf_matrix_df, annot=True, fmt=\"d\")\n",
    "plt.title('Confusion Matrix')\n",
    "plt.ylabel('Actual label')\n",
    "plt.xlabel('Predicted label')\n",
    "plt.show()"
   ]
  },
  {
   "cell_type": "code",
   "execution_count": 23,
   "metadata": {},
   "outputs": [
    {
     "data": {
      "application/vnd.jupyter.widget-view+json": {
       "model_id": "34a2f395b22f4ed2bd07261ec6f704ed",
       "version_major": 2,
       "version_minor": 0
      },
      "text/plain": [
       "  0%|          | 0/1000 [00:00<?, ?it/s]"
      ]
     },
     "metadata": {},
     "output_type": "display_data"
    },
    {
     "data": {
      "application/vnd.jupyter.widget-view+json": {
       "model_id": "4e3ee4d0917f469f83fa6ee0f378b9eb",
       "version_major": 2,
       "version_minor": 0
      },
      "text/plain": [
       "  0%|          | 0/1000 [00:00<?, ?it/s]"
      ]
     },
     "metadata": {},
     "output_type": "display_data"
    },
    {
     "data": {
      "application/vnd.jupyter.widget-view+json": {
       "model_id": "f2bbe8335de94ac0b12e532c044ff10b",
       "version_major": 2,
       "version_minor": 0
      },
      "text/plain": [
       "  0%|          | 0/1000 [00:00<?, ?it/s]"
      ]
     },
     "metadata": {},
     "output_type": "display_data"
    },
    {
     "data": {
      "application/vnd.jupyter.widget-view+json": {
       "model_id": "1df2de8e337242e3a6fe8f384bc6b10b",
       "version_major": 2,
       "version_minor": 0
      },
      "text/plain": [
       "  0%|          | 0/1000 [00:00<?, ?it/s]"
      ]
     },
     "metadata": {},
     "output_type": "display_data"
    },
    {
     "data": {
      "application/vnd.jupyter.widget-view+json": {
       "model_id": "fe9a29293c8640baa225078f17afbce4",
       "version_major": 2,
       "version_minor": 0
      },
      "text/plain": [
       "  0%|          | 0/1000 [00:00<?, ?it/s]"
      ]
     },
     "metadata": {},
     "output_type": "display_data"
    },
    {
     "data": {
      "application/vnd.jupyter.widget-view+json": {
       "model_id": "5b22679391bd478a8e2178c612179255",
       "version_major": 2,
       "version_minor": 0
      },
      "text/plain": [
       "  0%|          | 0/1000 [00:00<?, ?it/s]"
      ]
     },
     "metadata": {},
     "output_type": "display_data"
    },
    {
     "data": {
      "application/vnd.jupyter.widget-view+json": {
       "model_id": "3e06f610b0234899bf1de6876e55a935",
       "version_major": 2,
       "version_minor": 0
      },
      "text/plain": [
       "  0%|          | 0/1000 [00:00<?, ?it/s]"
      ]
     },
     "metadata": {},
     "output_type": "display_data"
    },
    {
     "data": {
      "application/vnd.jupyter.widget-view+json": {
       "model_id": "4ee6b1922e684278b48305c4e12e76f5",
       "version_major": 2,
       "version_minor": 0
      },
      "text/plain": [
       "  0%|          | 0/1000 [00:00<?, ?it/s]"
      ]
     },
     "metadata": {},
     "output_type": "display_data"
    },
    {
     "data": {
      "application/vnd.jupyter.widget-view+json": {
       "model_id": "511781b1dcb34b8da0f41e9caeea14ed",
       "version_major": 2,
       "version_minor": 0
      },
      "text/plain": [
       "  0%|          | 0/1000 [00:00<?, ?it/s]"
      ]
     },
     "metadata": {},
     "output_type": "display_data"
    },
    {
     "data": {
      "application/vnd.jupyter.widget-view+json": {
       "model_id": "0e19beb0bceb415a948ce485c7f3181b",
       "version_major": 2,
       "version_minor": 0
      },
      "text/plain": [
       "  0%|          | 0/1000 [00:00<?, ?it/s]"
      ]
     },
     "metadata": {},
     "output_type": "display_data"
    },
    {
     "data": {
      "application/vnd.jupyter.widget-view+json": {
       "model_id": "479e89e2914c4d638c714bf02c16e394",
       "version_major": 2,
       "version_minor": 0
      },
      "text/plain": [
       "  0%|          | 0/1000 [00:00<?, ?it/s]"
      ]
     },
     "metadata": {},
     "output_type": "display_data"
    },
    {
     "data": {
      "application/vnd.jupyter.widget-view+json": {
       "model_id": "c00d8e11726f455380bc6b75250630e9",
       "version_major": 2,
       "version_minor": 0
      },
      "text/plain": [
       "  0%|          | 0/1000 [00:00<?, ?it/s]"
      ]
     },
     "metadata": {},
     "output_type": "display_data"
    },
    {
     "data": {
      "application/vnd.jupyter.widget-view+json": {
       "model_id": "d1dddf3db52f48a690844ef26a9c749c",
       "version_major": 2,
       "version_minor": 0
      },
      "text/plain": [
       "  0%|          | 0/1000 [00:00<?, ?it/s]"
      ]
     },
     "metadata": {},
     "output_type": "display_data"
    },
    {
     "data": {
      "application/vnd.jupyter.widget-view+json": {
       "model_id": "36c790ec184a4e2f96f73624ca7282a9",
       "version_major": 2,
       "version_minor": 0
      },
      "text/plain": [
       "  0%|          | 0/1000 [00:00<?, ?it/s]"
      ]
     },
     "metadata": {},
     "output_type": "display_data"
    },
    {
     "data": {
      "application/vnd.jupyter.widget-view+json": {
       "model_id": "616ef08940504ca0a6c4db7937700cd8",
       "version_major": 2,
       "version_minor": 0
      },
      "text/plain": [
       "  0%|          | 0/1000 [00:00<?, ?it/s]"
      ]
     },
     "metadata": {},
     "output_type": "display_data"
    }
   ],
   "source": [
    "bert_en_values = []\n",
    "for i in range(15):\n",
    "  sampled_df = test_df.sample(n=1000, replace=True)\n",
    "  sampled_df['bert_en_sentiment'] = sampled_df['review_en'].progress_apply(predict)\n",
    "  acc = sampled_df.query('sentiment == bert_en_sentiment').shape[0]/sampled_df.shape[0]\n",
    "  bert_en_values.append(acc)"
   ]
  },
  {
   "cell_type": "code",
   "execution_count": 24,
   "metadata": {
    "scrolled": false
   },
   "outputs": [
    {
     "data": {
      "text/plain": [
       "[0.895,\n",
       " 0.877,\n",
       " 0.897,\n",
       " 0.903,\n",
       " 0.891,\n",
       " 0.889,\n",
       " 0.89,\n",
       " 0.877,\n",
       " 0.887,\n",
       " 0.89,\n",
       " 0.899,\n",
       " 0.886,\n",
       " 0.895,\n",
       " 0.881,\n",
       " 0.887]"
      ]
     },
     "execution_count": 24,
     "metadata": {},
     "output_type": "execute_result"
    }
   ],
   "source": [
    "bert_en_values"
   ]
  },
  {
   "cell_type": "markdown",
   "metadata": {},
   "source": [
    "___"
   ]
  },
  {
   "cell_type": "code",
   "execution_count": null,
   "metadata": {},
   "outputs": [],
   "source": []
  }
 ],
 "metadata": {
  "accelerator": "GPU",
  "colab": {
   "authorship_tag": "ABX9TyOsCqU79Gy+amPSQoFCOmUD",
   "gpuType": "T4",
   "mount_file_id": "1xWfNecf1jU3GC4g2wfqescFY2oBlfv96",
   "provenance": []
  },
  "kernelspec": {
   "display_name": "Python 3 (ipykernel)",
   "language": "python",
   "name": "python3"
  },
  "language_info": {
   "codemirror_mode": {
    "name": "ipython",
    "version": 3
   },
   "file_extension": ".py",
   "mimetype": "text/x-python",
   "name": "python",
   "nbconvert_exporter": "python",
   "pygments_lexer": "ipython3",
   "version": "3.9.5"
  }
 },
 "nbformat": 4,
 "nbformat_minor": 4
}
