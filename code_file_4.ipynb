{
 "cells": [
  {
   "cell_type": "markdown",
   "id": "0050b5bf",
   "metadata": {},
   "source": [
    "# NLTK vs BERT: Is there a significant difference in the performances of the models on English and Spanish text?"
   ]
  },
  {
   "cell_type": "markdown",
   "id": "37aef2dd",
   "metadata": {},
   "source": [
    "### Research idea:\n",
    "- We are addressing the problem “Is BERT more accurate than NLTK at determining the sentiment of English and Spanish reviews”. There seems to be limited literature and documentation on the difference in NLP models NLTK and BERT’s abilities to correctly analyze the sentiment of text in Spanish and English. So, answering this question will give us insights into the potential strengths and weaknesses of BERT and NLTK at predicting sentiment. As a result, we may have an idea of which NLP model to use depending on the given language.\n",
    "\n",
    "### Dataset:\n",
    "- The dataset we are using is titled “IMDB Dataset of 50K Movie Reviews (Spanish)”(Fig. 1), which is open and available on Kaggle. The dataset includes 50,000 IMDB movie reviews in English, the Spanish translation, and the sentiment of the review. The Kaggle dataset is based on an original dataset from the paper Learning Word Vectors for Sentiment Analysis (L. Mass et al) which includes only the English reviews with the associated sentiment. The dataset contains 50,000 movie reviews with an equal number of positive and negative reviews. Sentiment labels were determined by the score of the review: a negative review had a score less than or equal to 4 out of 10 and a positive review had a score greater than or equal to 7 out of 10. To get the spanish translations for the reviews, the Googletrans python library which uses the Google Translate API was applied.  Furthermore, we plan on using the movie reviews as input for the NLTK and BERT models to acquire the sentiment analysis for each model individually.\n",
    "- Link to the dataset: https://www.kaggle.com/datasets/luisdiegofv97/imdb-dataset-of-50k-movie-reviews-spanish\n",
    "\n",
    "### Previous analysis on this data:\n",
    "- There have been previous analyses performed on similar datasets. Since the internet evolved to be a shared space for users all over the world, statistical analysis of language sentiment through the usage of algorithms has been a heated topic, as efficient understanding of either user-reviews or comment in different languages can be beneficial for marketing, customer service, or overall online environment improvements. For example, Grader et al. utilized a different type of language model, MLSLDA, for sentiment analysis on a dataframe that contains German and English movie reviews to understand its performance when dealing with multilingual data. Similarly, Ozturk et al., trained a Rsentiment model to process Turkish tweets about the Syrian war and compared the result to that of the English tweets, which yielded interesting results that showed interesting polarizing opinions between the 2 countries about the war. These studies inspired us to compare the performance of more efficient language processing models such as NLTK and BERT on different languages.\n",
    "\n"
   ]
  },
  {
   "cell_type": "markdown",
   "id": "45feb9ff",
   "metadata": {},
   "source": [
    "___"
   ]
  },
  {
   "cell_type": "markdown",
   "id": "f0681e02",
   "metadata": {},
   "source": [
    "## NLTK for English and Spanish text\n",
    "- NLTK’s sentiment intensity analyzer is a tool fine tuned to read and predict the sentiment of a sentence, based on the words in it. It's a rule based and deterministic model built on bag of words representation of tokens in a sentence. It returns a value between -1 and 1, -1 corresponding to a highly negative sentence, and 1 corresponding to a highly positive one. For the sake of simplicity and consistency, we classified any number <= 0 to be a negative sentence, and > 0 to be a positive one. For instance, if a sentence has more “positive words”, i.e, “happy” or “good”, it would most likely be predicted to be a positive statement, and a sentence with more words such as “hate” and “detest” to be negative. "
   ]
  },
  {
   "cell_type": "code",
   "execution_count": 9,
   "id": "795dc2ca",
   "metadata": {},
   "outputs": [],
   "source": [
    "import numpy as np\n",
    "import pandas as pd\n",
    "import scipy.stats as stats\n",
    "import statsmodels\n",
    "\n",
    "import nltk\n",
    "from nltk.sentiment import SentimentIntensityAnalyzer\n",
    "\n",
    "from nltk.sentiment import SentimentIntensityAnalyzer\n",
    "import seaborn as sns\n",
    "import matplotlib.pyplot as plt"
   ]
  },
  {
   "cell_type": "markdown",
   "id": "78aacc12",
   "metadata": {},
   "source": [
    "#### Function to use the the sentiment intensity analyzer from NLTK:"
   ]
  },
  {
   "cell_type": "code",
   "execution_count": 10,
   "id": "3bac17a4-9951-4523-b10c-309f568d0ff6",
   "metadata": {},
   "outputs": [],
   "source": [
    "def score_discrete(score):\n",
    "    if score <= 0:\n",
    "        return -1\n",
    "    elif score > 0:\n",
    "        return 1\n",
    "    \n",
    "def sentiment_analysis(text):\n",
    "    sia = SentimentIntensityAnalyzer()\n",
    "    sentiment_scores = sia.polarity_scores(text)\n",
    "    return sentiment_scores['compound']"
   ]
  },
  {
   "cell_type": "code",
   "execution_count": 11,
   "id": "cf5959c2-61ed-4506-97c6-e9cf69aa1457",
   "metadata": {},
   "outputs": [
    {
     "data": {
      "text/html": [
       "<div>\n",
       "<style scoped>\n",
       "    .dataframe tbody tr th:only-of-type {\n",
       "        vertical-align: middle;\n",
       "    }\n",
       "\n",
       "    .dataframe tbody tr th {\n",
       "        vertical-align: top;\n",
       "    }\n",
       "\n",
       "    .dataframe thead th {\n",
       "        text-align: right;\n",
       "    }\n",
       "</style>\n",
       "<table border=\"1\" class=\"dataframe\">\n",
       "  <thead>\n",
       "    <tr style=\"text-align: right;\">\n",
       "      <th></th>\n",
       "      <th>Unnamed: 0</th>\n",
       "      <th>review_en</th>\n",
       "      <th>review_es</th>\n",
       "      <th>sentiment</th>\n",
       "    </tr>\n",
       "  </thead>\n",
       "  <tbody>\n",
       "    <tr>\n",
       "      <th>0</th>\n",
       "      <td>40548</td>\n",
       "      <td>As a Spanish tourist in Los Angeles and a fana...</td>\n",
       "      <td>Como turista español en Los Ángeles y un amant...</td>\n",
       "      <td>negative</td>\n",
       "    </tr>\n",
       "    <tr>\n",
       "      <th>1</th>\n",
       "      <td>25110</td>\n",
       "      <td>Excellent movie about a big media firm and the...</td>\n",
       "      <td>Excelente película sobre una gran firma de med...</td>\n",
       "      <td>positive</td>\n",
       "    </tr>\n",
       "    <tr>\n",
       "      <th>2</th>\n",
       "      <td>25040</td>\n",
       "      <td>As someone else has already said here, every s...</td>\n",
       "      <td>Como alguien más ya ha dicho aquí, cada escena...</td>\n",
       "      <td>positive</td>\n",
       "    </tr>\n",
       "    <tr>\n",
       "      <th>3</th>\n",
       "      <td>23051</td>\n",
       "      <td>Of all movies (and I'm a film graduate, if tha...</td>\n",
       "      <td>De todas las películas (y soy un graduado de c...</td>\n",
       "      <td>negative</td>\n",
       "    </tr>\n",
       "    <tr>\n",
       "      <th>4</th>\n",
       "      <td>14182</td>\n",
       "      <td>This is the second Eytan Fox film I have seen....</td>\n",
       "      <td>Esta es la segunda película de Eytan Fox que h...</td>\n",
       "      <td>positive</td>\n",
       "    </tr>\n",
       "  </tbody>\n",
       "</table>\n",
       "</div>"
      ],
      "text/plain": [
       "   Unnamed: 0                                          review_en  \\\n",
       "0       40548  As a Spanish tourist in Los Angeles and a fana...   \n",
       "1       25110  Excellent movie about a big media firm and the...   \n",
       "2       25040  As someone else has already said here, every s...   \n",
       "3       23051  Of all movies (and I'm a film graduate, if tha...   \n",
       "4       14182  This is the second Eytan Fox film I have seen....   \n",
       "\n",
       "                                           review_es sentiment  \n",
       "0  Como turista español en Los Ángeles y un amant...  negative  \n",
       "1  Excelente película sobre una gran firma de med...  positive  \n",
       "2  Como alguien más ya ha dicho aquí, cada escena...  positive  \n",
       "3  De todas las películas (y soy un graduado de c...  negative  \n",
       "4  Esta es la segunda película de Eytan Fox que h...  positive  "
      ]
     },
     "execution_count": 11,
     "metadata": {},
     "output_type": "execute_result"
    }
   ],
   "source": [
    "df_eng_span = pd.read_csv('test_df.csv', encoding='utf8')\n",
    "df_eng_span.head()"
   ]
  },
  {
   "cell_type": "markdown",
   "id": "a060c5a6-711c-480f-8023-097b047f9f1d",
   "metadata": {},
   "source": [
    "#### change positve and negative to 1 and 0"
   ]
  },
  {
   "cell_type": "code",
   "execution_count": 12,
   "id": "dc592a0b-a2df-45ab-95dc-31d770f508a2",
   "metadata": {},
   "outputs": [
    {
     "data": {
      "text/html": [
       "<div>\n",
       "<style scoped>\n",
       "    .dataframe tbody tr th:only-of-type {\n",
       "        vertical-align: middle;\n",
       "    }\n",
       "\n",
       "    .dataframe tbody tr th {\n",
       "        vertical-align: top;\n",
       "    }\n",
       "\n",
       "    .dataframe thead th {\n",
       "        text-align: right;\n",
       "    }\n",
       "</style>\n",
       "<table border=\"1\" class=\"dataframe\">\n",
       "  <thead>\n",
       "    <tr style=\"text-align: right;\">\n",
       "      <th></th>\n",
       "      <th>Unnamed: 0</th>\n",
       "      <th>review_en</th>\n",
       "      <th>review_es</th>\n",
       "      <th>sentiment</th>\n",
       "    </tr>\n",
       "  </thead>\n",
       "  <tbody>\n",
       "    <tr>\n",
       "      <th>0</th>\n",
       "      <td>40548</td>\n",
       "      <td>As a Spanish tourist in Los Angeles and a fana...</td>\n",
       "      <td>Como turista español en Los Ángeles y un amant...</td>\n",
       "      <td>-1</td>\n",
       "    </tr>\n",
       "    <tr>\n",
       "      <th>1</th>\n",
       "      <td>25110</td>\n",
       "      <td>Excellent movie about a big media firm and the...</td>\n",
       "      <td>Excelente película sobre una gran firma de med...</td>\n",
       "      <td>1</td>\n",
       "    </tr>\n",
       "    <tr>\n",
       "      <th>2</th>\n",
       "      <td>25040</td>\n",
       "      <td>As someone else has already said here, every s...</td>\n",
       "      <td>Como alguien más ya ha dicho aquí, cada escena...</td>\n",
       "      <td>1</td>\n",
       "    </tr>\n",
       "    <tr>\n",
       "      <th>3</th>\n",
       "      <td>23051</td>\n",
       "      <td>Of all movies (and I'm a film graduate, if tha...</td>\n",
       "      <td>De todas las películas (y soy un graduado de c...</td>\n",
       "      <td>-1</td>\n",
       "    </tr>\n",
       "    <tr>\n",
       "      <th>4</th>\n",
       "      <td>14182</td>\n",
       "      <td>This is the second Eytan Fox film I have seen....</td>\n",
       "      <td>Esta es la segunda película de Eytan Fox que h...</td>\n",
       "      <td>1</td>\n",
       "    </tr>\n",
       "  </tbody>\n",
       "</table>\n",
       "</div>"
      ],
      "text/plain": [
       "   Unnamed: 0                                          review_en  \\\n",
       "0       40548  As a Spanish tourist in Los Angeles and a fana...   \n",
       "1       25110  Excellent movie about a big media firm and the...   \n",
       "2       25040  As someone else has already said here, every s...   \n",
       "3       23051  Of all movies (and I'm a film graduate, if tha...   \n",
       "4       14182  This is the second Eytan Fox film I have seen....   \n",
       "\n",
       "                                           review_es  sentiment  \n",
       "0  Como turista español en Los Ángeles y un amant...         -1  \n",
       "1  Excelente película sobre una gran firma de med...          1  \n",
       "2  Como alguien más ya ha dicho aquí, cada escena...          1  \n",
       "3  De todas las películas (y soy un graduado de c...         -1  \n",
       "4  Esta es la segunda película de Eytan Fox que h...          1  "
      ]
     },
     "execution_count": 12,
     "metadata": {},
     "output_type": "execute_result"
    }
   ],
   "source": [
    "df_eng_span['sentiment'] = df_eng_span['sentiment'].replace({'positive' : 1, 'negative' : -1})\n",
    "df_eng_span.head()"
   ]
  },
  {
   "cell_type": "markdown",
   "id": "227510d4-afdb-48ef-8da9-8872a2bfde53",
   "metadata": {},
   "source": [
    "#### take a random sample of size n"
   ]
  },
  {
   "cell_type": "code",
   "execution_count": 13,
   "id": "02ce28f5-7986-4499-bedc-3ef37b635694",
   "metadata": {},
   "outputs": [],
   "source": [
    "df_nltk_sample = df_eng_span.sample(n=1000, replace = True)"
   ]
  },
  {
   "cell_type": "code",
   "execution_count": 17,
   "id": "fe4248b1",
   "metadata": {},
   "outputs": [
    {
     "name": "stderr",
     "output_type": "stream",
     "text": [
      "[nltk_data] Downloading package vader_lexicon to\n",
      "[nltk_data]     /home/svyasabattu/nltk_data...\n"
     ]
    },
    {
     "data": {
      "text/plain": [
       "True"
      ]
     },
     "execution_count": 17,
     "metadata": {},
     "output_type": "execute_result"
    }
   ],
   "source": [
    "#import nltk\n",
    "#nltk.download('vader_lexicon')"
   ]
  },
  {
   "cell_type": "markdown",
   "id": "7ccb94b1",
   "metadata": {},
   "source": [
    "#### applying nltk to english reviews"
   ]
  },
  {
   "cell_type": "code",
   "execution_count": 18,
   "id": "d2638438-fd92-420b-95e0-962351fc0e53",
   "metadata": {},
   "outputs": [
    {
     "data": {
      "text/html": [
       "<div>\n",
       "<style scoped>\n",
       "    .dataframe tbody tr th:only-of-type {\n",
       "        vertical-align: middle;\n",
       "    }\n",
       "\n",
       "    .dataframe tbody tr th {\n",
       "        vertical-align: top;\n",
       "    }\n",
       "\n",
       "    .dataframe thead th {\n",
       "        text-align: right;\n",
       "    }\n",
       "</style>\n",
       "<table border=\"1\" class=\"dataframe\">\n",
       "  <thead>\n",
       "    <tr style=\"text-align: right;\">\n",
       "      <th></th>\n",
       "      <th>Unnamed: 0</th>\n",
       "      <th>review_en</th>\n",
       "      <th>review_es</th>\n",
       "      <th>sentiment</th>\n",
       "      <th>nltk_score_eng</th>\n",
       "      <th>nltk_score_eng_discrete</th>\n",
       "    </tr>\n",
       "  </thead>\n",
       "  <tbody>\n",
       "    <tr>\n",
       "      <th>14</th>\n",
       "      <td>15046</td>\n",
       "      <td>I saw this movie one time at a kiddie matinée ...</td>\n",
       "      <td>Vi una vez en la película una vez en un Kiddie...</td>\n",
       "      <td>-1</td>\n",
       "      <td>0.9789</td>\n",
       "      <td>1</td>\n",
       "    </tr>\n",
       "    <tr>\n",
       "      <th>28</th>\n",
       "      <td>39616</td>\n",
       "      <td>It must be a long time ago that I have seen su...</td>\n",
       "      <td>Debe pasar hace mucho tiempo que he visto una ...</td>\n",
       "      <td>-1</td>\n",
       "      <td>-0.9654</td>\n",
       "      <td>-1</td>\n",
       "    </tr>\n",
       "    <tr>\n",
       "      <th>35</th>\n",
       "      <td>22706</td>\n",
       "      <td>This is truly terrible: painfully irritating s...</td>\n",
       "      <td>Esto es verdaderamente terrible: los artistas ...</td>\n",
       "      <td>-1</td>\n",
       "      <td>-0.9531</td>\n",
       "      <td>-1</td>\n",
       "    </tr>\n",
       "    <tr>\n",
       "      <th>38</th>\n",
       "      <td>37835</td>\n",
       "      <td>First off, I would like to point out that whil...</td>\n",
       "      <td>En primer lugar, me gustaría señalar que, si b...</td>\n",
       "      <td>-1</td>\n",
       "      <td>0.4506</td>\n",
       "      <td>1</td>\n",
       "    </tr>\n",
       "    <tr>\n",
       "      <th>2</th>\n",
       "      <td>25040</td>\n",
       "      <td>As someone else has already said here, every s...</td>\n",
       "      <td>Como alguien más ya ha dicho aquí, cada escena...</td>\n",
       "      <td>1</td>\n",
       "      <td>0.9817</td>\n",
       "      <td>1</td>\n",
       "    </tr>\n",
       "  </tbody>\n",
       "</table>\n",
       "</div>"
      ],
      "text/plain": [
       "    Unnamed: 0                                          review_en  \\\n",
       "14       15046  I saw this movie one time at a kiddie matinée ...   \n",
       "28       39616  It must be a long time ago that I have seen su...   \n",
       "35       22706  This is truly terrible: painfully irritating s...   \n",
       "38       37835  First off, I would like to point out that whil...   \n",
       "2        25040  As someone else has already said here, every s...   \n",
       "\n",
       "                                            review_es  sentiment  \\\n",
       "14  Vi una vez en la película una vez en un Kiddie...         -1   \n",
       "28  Debe pasar hace mucho tiempo que he visto una ...         -1   \n",
       "35  Esto es verdaderamente terrible: los artistas ...         -1   \n",
       "38  En primer lugar, me gustaría señalar que, si b...         -1   \n",
       "2   Como alguien más ya ha dicho aquí, cada escena...          1   \n",
       "\n",
       "    nltk_score_eng  nltk_score_eng_discrete  \n",
       "14          0.9789                        1  \n",
       "28         -0.9654                       -1  \n",
       "35         -0.9531                       -1  \n",
       "38          0.4506                        1  \n",
       "2           0.9817                        1  "
      ]
     },
     "execution_count": 18,
     "metadata": {},
     "output_type": "execute_result"
    }
   ],
   "source": [
    "df_nltk_sample['nltk_score_eng'] = df_nltk_sample['review_en'].apply(sentiment_analysis)\n",
    "df_nltk_sample['nltk_score_eng_discrete'] = df_nltk_sample['nltk_score_eng'].apply(score_discrete)\n",
    "\n",
    "df_nltk_sample.head()"
   ]
  },
  {
   "cell_type": "markdown",
   "id": "614bc588",
   "metadata": {},
   "source": [
    "#### applying nltk to spanish reviews"
   ]
  },
  {
   "cell_type": "code",
   "execution_count": 19,
   "id": "af21709d-164e-4690-971b-fbac022aa955",
   "metadata": {},
   "outputs": [
    {
     "data": {
      "text/html": [
       "<div>\n",
       "<style scoped>\n",
       "    .dataframe tbody tr th:only-of-type {\n",
       "        vertical-align: middle;\n",
       "    }\n",
       "\n",
       "    .dataframe tbody tr th {\n",
       "        vertical-align: top;\n",
       "    }\n",
       "\n",
       "    .dataframe thead th {\n",
       "        text-align: right;\n",
       "    }\n",
       "</style>\n",
       "<table border=\"1\" class=\"dataframe\">\n",
       "  <thead>\n",
       "    <tr style=\"text-align: right;\">\n",
       "      <th></th>\n",
       "      <th>Unnamed: 0</th>\n",
       "      <th>review_en</th>\n",
       "      <th>review_es</th>\n",
       "      <th>sentiment</th>\n",
       "      <th>nltk_score_eng</th>\n",
       "      <th>nltk_score_eng_discrete</th>\n",
       "      <th>nltk_score_es</th>\n",
       "      <th>nltk_score_es_discrete</th>\n",
       "    </tr>\n",
       "  </thead>\n",
       "  <tbody>\n",
       "    <tr>\n",
       "      <th>14</th>\n",
       "      <td>15046</td>\n",
       "      <td>I saw this movie one time at a kiddie matinée ...</td>\n",
       "      <td>Vi una vez en la película una vez en un Kiddie...</td>\n",
       "      <td>-1</td>\n",
       "      <td>0.9789</td>\n",
       "      <td>1</td>\n",
       "      <td>-0.6369</td>\n",
       "      <td>-1</td>\n",
       "    </tr>\n",
       "    <tr>\n",
       "      <th>28</th>\n",
       "      <td>39616</td>\n",
       "      <td>It must be a long time ago that I have seen su...</td>\n",
       "      <td>Debe pasar hace mucho tiempo que he visto una ...</td>\n",
       "      <td>-1</td>\n",
       "      <td>-0.9654</td>\n",
       "      <td>-1</td>\n",
       "      <td>-0.7845</td>\n",
       "      <td>-1</td>\n",
       "    </tr>\n",
       "    <tr>\n",
       "      <th>35</th>\n",
       "      <td>22706</td>\n",
       "      <td>This is truly terrible: painfully irritating s...</td>\n",
       "      <td>Esto es verdaderamente terrible: los artistas ...</td>\n",
       "      <td>-1</td>\n",
       "      <td>-0.9531</td>\n",
       "      <td>-1</td>\n",
       "      <td>-0.9571</td>\n",
       "      <td>-1</td>\n",
       "    </tr>\n",
       "    <tr>\n",
       "      <th>38</th>\n",
       "      <td>37835</td>\n",
       "      <td>First off, I would like to point out that whil...</td>\n",
       "      <td>En primer lugar, me gustaría señalar que, si b...</td>\n",
       "      <td>-1</td>\n",
       "      <td>0.4506</td>\n",
       "      <td>1</td>\n",
       "      <td>-0.8402</td>\n",
       "      <td>-1</td>\n",
       "    </tr>\n",
       "    <tr>\n",
       "      <th>2</th>\n",
       "      <td>25040</td>\n",
       "      <td>As someone else has already said here, every s...</td>\n",
       "      <td>Como alguien más ya ha dicho aquí, cada escena...</td>\n",
       "      <td>1</td>\n",
       "      <td>0.9817</td>\n",
       "      <td>1</td>\n",
       "      <td>0.8750</td>\n",
       "      <td>1</td>\n",
       "    </tr>\n",
       "  </tbody>\n",
       "</table>\n",
       "</div>"
      ],
      "text/plain": [
       "    Unnamed: 0                                          review_en  \\\n",
       "14       15046  I saw this movie one time at a kiddie matinée ...   \n",
       "28       39616  It must be a long time ago that I have seen su...   \n",
       "35       22706  This is truly terrible: painfully irritating s...   \n",
       "38       37835  First off, I would like to point out that whil...   \n",
       "2        25040  As someone else has already said here, every s...   \n",
       "\n",
       "                                            review_es  sentiment  \\\n",
       "14  Vi una vez en la película una vez en un Kiddie...         -1   \n",
       "28  Debe pasar hace mucho tiempo que he visto una ...         -1   \n",
       "35  Esto es verdaderamente terrible: los artistas ...         -1   \n",
       "38  En primer lugar, me gustaría señalar que, si b...         -1   \n",
       "2   Como alguien más ya ha dicho aquí, cada escena...          1   \n",
       "\n",
       "    nltk_score_eng  nltk_score_eng_discrete  nltk_score_es  \\\n",
       "14          0.9789                        1        -0.6369   \n",
       "28         -0.9654                       -1        -0.7845   \n",
       "35         -0.9531                       -1        -0.9571   \n",
       "38          0.4506                        1        -0.8402   \n",
       "2           0.9817                        1         0.8750   \n",
       "\n",
       "    nltk_score_es_discrete  \n",
       "14                      -1  \n",
       "28                      -1  \n",
       "35                      -1  \n",
       "38                      -1  \n",
       "2                        1  "
      ]
     },
     "execution_count": 19,
     "metadata": {},
     "output_type": "execute_result"
    }
   ],
   "source": [
    "#applying nltk to spanish reviews\n",
    "df_nltk_sample['nltk_score_es'] = df_nltk_sample['review_es'].apply(sentiment_analysis)\n",
    "df_nltk_sample['nltk_score_es_discrete'] = df_nltk_sample['nltk_score_es'].apply(score_discrete)\n",
    "\n",
    "df_nltk_sample.head()"
   ]
  },
  {
   "cell_type": "markdown",
   "id": "41adfa62-18af-4996-884c-757a1cc285ec",
   "metadata": {},
   "source": [
    "#### compute accuracy"
   ]
  },
  {
   "cell_type": "code",
   "execution_count": 20,
   "id": "cc13203a-436e-4ffc-b02a-6b4f76870810",
   "metadata": {},
   "outputs": [],
   "source": [
    "en_accuracy = df_nltk_sample[df_nltk_sample[\"nltk_score_eng_discrete\"] == df_nltk_sample[\"sentiment\"]].shape[0]/df_nltk_sample.shape[0]\n",
    "\n",
    "es_accuracy = df_nltk_sample[df_nltk_sample[\"nltk_score_es_discrete\"] == df_nltk_sample[\"sentiment\"]].shape[0]/df_nltk_sample.shape[0]"
   ]
  },
  {
   "cell_type": "code",
   "execution_count": 21,
   "id": "d9c2deeb-5714-4e8c-a51d-b50ef4b46e95",
   "metadata": {},
   "outputs": [
    {
     "data": {
      "text/plain": [
       "0.668"
      ]
     },
     "execution_count": 21,
     "metadata": {},
     "output_type": "execute_result"
    }
   ],
   "source": [
    "en_accuracy"
   ]
  },
  {
   "cell_type": "code",
   "execution_count": 22,
   "id": "621c0421-8c87-4a2a-aa1e-01b9b88f5ed2",
   "metadata": {},
   "outputs": [
    {
     "data": {
      "text/plain": [
       "0.678"
      ]
     },
     "execution_count": 22,
     "metadata": {},
     "output_type": "execute_result"
    }
   ],
   "source": [
    "es_accuracy"
   ]
  },
  {
   "cell_type": "code",
   "execution_count": 23,
   "id": "467351b4-def8-4375-8239-27d4dd097515",
   "metadata": {},
   "outputs": [],
   "source": [
    "def case_sorter(score, binary_nltk_score):\n",
    "    if score == 1 and binary_nltk_score == 1:\n",
    "         return 'true positive'\n",
    "    elif score == 1 and binary_nltk_score == -1:\n",
    "         return 'false negative'\n",
    "    elif score == -1 and binary_nltk_score == 1:\n",
    "         return 'false positive'\n",
    "    else:\n",
    "         return 'true negative'"
   ]
  },
  {
   "cell_type": "markdown",
   "id": "4287f60a-23ee-4f0f-b06c-5a720ef0b147",
   "metadata": {},
   "source": [
    "#### check english accuracy"
   ]
  },
  {
   "cell_type": "code",
   "execution_count": 24,
   "id": "bfeef104-8281-4942-9812-2e9848bdcbb7",
   "metadata": {},
   "outputs": [
    {
     "data": {
      "text/plain": [
       "<AxesSubplot:xlabel='score_compared', ylabel='count'>"
      ]
     },
     "execution_count": 24,
     "metadata": {},
     "output_type": "execute_result"
    },
    {
     "data": {
      "image/png": "[encoded data removed]",
      "text/plain": [
       "<Figure size 432x288 with 1 Axes>"
      ]
     },
     "metadata": {
      "needs_background": "light"
     },
     "output_type": "display_data"
    }
   ],
   "source": [
    "score_counts = pd.DataFrame({'score_compared' : pd.Series(df_nltk_sample.apply(lambda row: case_sorter(row['sentiment'], row['nltk_score_eng_discrete']), axis=1))})\n",
    "sns.countplot(data = score_counts, x = 'score_compared', hue = 'score_compared')"
   ]
  },
  {
   "cell_type": "markdown",
   "id": "65cfbfe7-285a-4dcf-868a-9178e5fd69ac",
   "metadata": {},
   "source": [
    "#### check spanish accuracy"
   ]
  },
  {
   "cell_type": "code",
   "execution_count": 25,
   "id": "11466ded-c17c-4b7e-967b-0bac6292d2e7",
   "metadata": {},
   "outputs": [
    {
     "data": {
      "text/plain": [
       "<AxesSubplot:xlabel='score_compared', ylabel='count'>"
      ]
     },
     "execution_count": 25,
     "metadata": {},
     "output_type": "execute_result"
    },
    {
     "data": {
      "image/png": "[encoded data removed]",
      "text/plain": [
       "<Figure size 432x288 with 1 Axes>"
      ]
     },
     "metadata": {
      "needs_background": "light"
     },
     "output_type": "display_data"
    }
   ],
   "source": [
    "score_counts = pd.DataFrame({'score_compared' : pd.Series(\n",
    "    df_nltk_sample.apply(lambda row: case_sorter(row['sentiment'], row['nltk_score_es_discrete']), axis=1))})\n",
    "sns.countplot(data = score_counts, x = 'score_compared', hue = 'score_compared')"
   ]
  },
  {
   "cell_type": "code",
   "execution_count": 26,
   "id": "f1786aa1-bb67-4c60-bff8-bbeee2cea2a0",
   "metadata": {},
   "outputs": [
    {
     "data": {
      "text/html": [
       "<div>\n",
       "<style scoped>\n",
       "    .dataframe tbody tr th:only-of-type {\n",
       "        vertical-align: middle;\n",
       "    }\n",
       "\n",
       "    .dataframe tbody tr th {\n",
       "        vertical-align: top;\n",
       "    }\n",
       "\n",
       "    .dataframe thead th {\n",
       "        text-align: right;\n",
       "    }\n",
       "</style>\n",
       "<table border=\"1\" class=\"dataframe\">\n",
       "  <thead>\n",
       "    <tr style=\"text-align: right;\">\n",
       "      <th></th>\n",
       "      <th>Unnamed: 0</th>\n",
       "      <th>review_en</th>\n",
       "      <th>review_es</th>\n",
       "      <th>sentiment</th>\n",
       "    </tr>\n",
       "  </thead>\n",
       "  <tbody>\n",
       "    <tr>\n",
       "      <th>0</th>\n",
       "      <td>40548</td>\n",
       "      <td>As a Spanish tourist in Los Angeles and a fana...</td>\n",
       "      <td>Como turista español en Los Ángeles y un amant...</td>\n",
       "      <td>-1</td>\n",
       "    </tr>\n",
       "    <tr>\n",
       "      <th>1</th>\n",
       "      <td>25110</td>\n",
       "      <td>Excellent movie about a big media firm and the...</td>\n",
       "      <td>Excelente película sobre una gran firma de med...</td>\n",
       "      <td>1</td>\n",
       "    </tr>\n",
       "    <tr>\n",
       "      <th>2</th>\n",
       "      <td>25040</td>\n",
       "      <td>As someone else has already said here, every s...</td>\n",
       "      <td>Como alguien más ya ha dicho aquí, cada escena...</td>\n",
       "      <td>1</td>\n",
       "    </tr>\n",
       "    <tr>\n",
       "      <th>3</th>\n",
       "      <td>23051</td>\n",
       "      <td>Of all movies (and I'm a film graduate, if tha...</td>\n",
       "      <td>De todas las películas (y soy un graduado de c...</td>\n",
       "      <td>-1</td>\n",
       "    </tr>\n",
       "    <tr>\n",
       "      <th>4</th>\n",
       "      <td>14182</td>\n",
       "      <td>This is the second Eytan Fox film I have seen....</td>\n",
       "      <td>Esta es la segunda película de Eytan Fox que h...</td>\n",
       "      <td>1</td>\n",
       "    </tr>\n",
       "  </tbody>\n",
       "</table>\n",
       "</div>"
      ],
      "text/plain": [
       "   Unnamed: 0                                          review_en  \\\n",
       "0       40548  As a Spanish tourist in Los Angeles and a fana...   \n",
       "1       25110  Excellent movie about a big media firm and the...   \n",
       "2       25040  As someone else has already said here, every s...   \n",
       "3       23051  Of all movies (and I'm a film graduate, if tha...   \n",
       "4       14182  This is the second Eytan Fox film I have seen....   \n",
       "\n",
       "                                           review_es  sentiment  \n",
       "0  Como turista español en Los Ángeles y un amant...         -1  \n",
       "1  Excelente película sobre una gran firma de med...          1  \n",
       "2  Como alguien más ya ha dicho aquí, cada escena...          1  \n",
       "3  De todas las películas (y soy un graduado de c...         -1  \n",
       "4  Esta es la segunda película de Eytan Fox que h...          1  "
      ]
     },
     "execution_count": 26,
     "metadata": {},
     "output_type": "execute_result"
    }
   ],
   "source": [
    "df_eng_span.head()"
   ]
  },
  {
   "cell_type": "code",
   "execution_count": 27,
   "id": "3050ef52-bebf-444b-b594-86e6e4b2389f",
   "metadata": {},
   "outputs": [],
   "source": [
    "df_nltk_sample = df_eng_span.sample(n=1000, replace = True)"
   ]
  },
  {
   "cell_type": "markdown",
   "id": "27cb08ae-c705-45d1-92e9-c6ff25f58a00",
   "metadata": {},
   "source": [
    "#### applying nltk to english reviews"
   ]
  },
  {
   "cell_type": "code",
   "execution_count": 28,
   "id": "ef567c1c-a52c-4dc5-b9aa-6b9b862c2569",
   "metadata": {},
   "outputs": [
    {
     "data": {
      "text/html": [
       "<div>\n",
       "<style scoped>\n",
       "    .dataframe tbody tr th:only-of-type {\n",
       "        vertical-align: middle;\n",
       "    }\n",
       "\n",
       "    .dataframe tbody tr th {\n",
       "        vertical-align: top;\n",
       "    }\n",
       "\n",
       "    .dataframe thead th {\n",
       "        text-align: right;\n",
       "    }\n",
       "</style>\n",
       "<table border=\"1\" class=\"dataframe\">\n",
       "  <thead>\n",
       "    <tr style=\"text-align: right;\">\n",
       "      <th></th>\n",
       "      <th>Unnamed: 0</th>\n",
       "      <th>review_en</th>\n",
       "      <th>review_es</th>\n",
       "      <th>sentiment</th>\n",
       "      <th>nltk_score_eng</th>\n",
       "      <th>nltk_score_eng_discrete</th>\n",
       "    </tr>\n",
       "  </thead>\n",
       "  <tbody>\n",
       "    <tr>\n",
       "      <th>16</th>\n",
       "      <td>35585</td>\n",
       "      <td>Ti%s and As*, lots of boobies. Some great char...</td>\n",
       "      <td>TI% S y AS *, muchos piqueros.Algunos grandes ...</td>\n",
       "      <td>1</td>\n",
       "      <td>0.9897</td>\n",
       "      <td>1</td>\n",
       "    </tr>\n",
       "    <tr>\n",
       "      <th>4</th>\n",
       "      <td>14182</td>\n",
       "      <td>This is the second Eytan Fox film I have seen....</td>\n",
       "      <td>Esta es la segunda película de Eytan Fox que h...</td>\n",
       "      <td>1</td>\n",
       "      <td>0.7552</td>\n",
       "      <td>1</td>\n",
       "    </tr>\n",
       "    <tr>\n",
       "      <th>35</th>\n",
       "      <td>22706</td>\n",
       "      <td>This is truly terrible: painfully irritating s...</td>\n",
       "      <td>Esto es verdaderamente terrible: los artistas ...</td>\n",
       "      <td>-1</td>\n",
       "      <td>-0.9531</td>\n",
       "      <td>-1</td>\n",
       "    </tr>\n",
       "    <tr>\n",
       "      <th>31</th>\n",
       "      <td>1943</td>\n",
       "      <td>I saw The Merchant of Venice in London last we...</td>\n",
       "      <td>Vi al comerciante de Venecia en Londres la sem...</td>\n",
       "      <td>1</td>\n",
       "      <td>0.8770</td>\n",
       "      <td>1</td>\n",
       "    </tr>\n",
       "    <tr>\n",
       "      <th>8</th>\n",
       "      <td>29180</td>\n",
       "      <td>A friend of mine decided to rent this thing, l...</td>\n",
       "      <td>Un amigo mío decidió alquilar esta cosa, suert...</td>\n",
       "      <td>-1</td>\n",
       "      <td>-0.9579</td>\n",
       "      <td>-1</td>\n",
       "    </tr>\n",
       "  </tbody>\n",
       "</table>\n",
       "</div>"
      ],
      "text/plain": [
       "    Unnamed: 0                                          review_en  \\\n",
       "16       35585  Ti%s and As*, lots of boobies. Some great char...   \n",
       "4        14182  This is the second Eytan Fox film I have seen....   \n",
       "35       22706  This is truly terrible: painfully irritating s...   \n",
       "31        1943  I saw The Merchant of Venice in London last we...   \n",
       "8        29180  A friend of mine decided to rent this thing, l...   \n",
       "\n",
       "                                            review_es  sentiment  \\\n",
       "16  TI% S y AS *, muchos piqueros.Algunos grandes ...          1   \n",
       "4   Esta es la segunda película de Eytan Fox que h...          1   \n",
       "35  Esto es verdaderamente terrible: los artistas ...         -1   \n",
       "31  Vi al comerciante de Venecia en Londres la sem...          1   \n",
       "8   Un amigo mío decidió alquilar esta cosa, suert...         -1   \n",
       "\n",
       "    nltk_score_eng  nltk_score_eng_discrete  \n",
       "16          0.9897                        1  \n",
       "4           0.7552                        1  \n",
       "35         -0.9531                       -1  \n",
       "31          0.8770                        1  \n",
       "8          -0.9579                       -1  "
      ]
     },
     "execution_count": 28,
     "metadata": {},
     "output_type": "execute_result"
    }
   ],
   "source": [
    "df_nltk_sample['nltk_score_eng'] = df_nltk_sample['review_en'].apply(sentiment_analysis)\n",
    "df_nltk_sample['nltk_score_eng_discrete'] = df_nltk_sample['nltk_score_eng'].apply(score_discrete)\n",
    "\n",
    "df_nltk_sample.head()"
   ]
  },
  {
   "cell_type": "markdown",
   "id": "51817001-452a-4d24-99a4-6f31adaad668",
   "metadata": {},
   "source": [
    "#### applying nltk to spanish reviews"
   ]
  },
  {
   "cell_type": "code",
   "execution_count": 29,
   "id": "5b1fe7a8",
   "metadata": {},
   "outputs": [
    {
     "data": {
      "text/html": [
       "<div>\n",
       "<style scoped>\n",
       "    .dataframe tbody tr th:only-of-type {\n",
       "        vertical-align: middle;\n",
       "    }\n",
       "\n",
       "    .dataframe tbody tr th {\n",
       "        vertical-align: top;\n",
       "    }\n",
       "\n",
       "    .dataframe thead th {\n",
       "        text-align: right;\n",
       "    }\n",
       "</style>\n",
       "<table border=\"1\" class=\"dataframe\">\n",
       "  <thead>\n",
       "    <tr style=\"text-align: right;\">\n",
       "      <th></th>\n",
       "      <th>Unnamed: 0</th>\n",
       "      <th>review_en</th>\n",
       "      <th>review_es</th>\n",
       "      <th>sentiment</th>\n",
       "      <th>nltk_score_eng</th>\n",
       "      <th>nltk_score_eng_discrete</th>\n",
       "      <th>nltk_score_es</th>\n",
       "      <th>nltk_score_es_discrete</th>\n",
       "    </tr>\n",
       "  </thead>\n",
       "  <tbody>\n",
       "    <tr>\n",
       "      <th>16</th>\n",
       "      <td>35585</td>\n",
       "      <td>Ti%s and As*, lots of boobies. Some great char...</td>\n",
       "      <td>TI% S y AS *, muchos piqueros.Algunos grandes ...</td>\n",
       "      <td>1</td>\n",
       "      <td>0.9897</td>\n",
       "      <td>1</td>\n",
       "      <td>0.3612</td>\n",
       "      <td>1</td>\n",
       "    </tr>\n",
       "    <tr>\n",
       "      <th>4</th>\n",
       "      <td>14182</td>\n",
       "      <td>This is the second Eytan Fox film I have seen....</td>\n",
       "      <td>Esta es la segunda película de Eytan Fox que h...</td>\n",
       "      <td>1</td>\n",
       "      <td>0.7552</td>\n",
       "      <td>1</td>\n",
       "      <td>-0.8807</td>\n",
       "      <td>-1</td>\n",
       "    </tr>\n",
       "    <tr>\n",
       "      <th>35</th>\n",
       "      <td>22706</td>\n",
       "      <td>This is truly terrible: painfully irritating s...</td>\n",
       "      <td>Esto es verdaderamente terrible: los artistas ...</td>\n",
       "      <td>-1</td>\n",
       "      <td>-0.9531</td>\n",
       "      <td>-1</td>\n",
       "      <td>-0.9571</td>\n",
       "      <td>-1</td>\n",
       "    </tr>\n",
       "    <tr>\n",
       "      <th>31</th>\n",
       "      <td>1943</td>\n",
       "      <td>I saw The Merchant of Venice in London last we...</td>\n",
       "      <td>Vi al comerciante de Venecia en Londres la sem...</td>\n",
       "      <td>1</td>\n",
       "      <td>0.8770</td>\n",
       "      <td>1</td>\n",
       "      <td>0.3400</td>\n",
       "      <td>1</td>\n",
       "    </tr>\n",
       "    <tr>\n",
       "      <th>8</th>\n",
       "      <td>29180</td>\n",
       "      <td>A friend of mine decided to rent this thing, l...</td>\n",
       "      <td>Un amigo mío decidió alquilar esta cosa, suert...</td>\n",
       "      <td>-1</td>\n",
       "      <td>-0.9579</td>\n",
       "      <td>-1</td>\n",
       "      <td>-0.4215</td>\n",
       "      <td>-1</td>\n",
       "    </tr>\n",
       "  </tbody>\n",
       "</table>\n",
       "</div>"
      ],
      "text/plain": [
       "    Unnamed: 0                                          review_en  \\\n",
       "16       35585  Ti%s and As*, lots of boobies. Some great char...   \n",
       "4        14182  This is the second Eytan Fox film I have seen....   \n",
       "35       22706  This is truly terrible: painfully irritating s...   \n",
       "31        1943  I saw The Merchant of Venice in London last we...   \n",
       "8        29180  A friend of mine decided to rent this thing, l...   \n",
       "\n",
       "                                            review_es  sentiment  \\\n",
       "16  TI% S y AS *, muchos piqueros.Algunos grandes ...          1   \n",
       "4   Esta es la segunda película de Eytan Fox que h...          1   \n",
       "35  Esto es verdaderamente terrible: los artistas ...         -1   \n",
       "31  Vi al comerciante de Venecia en Londres la sem...          1   \n",
       "8   Un amigo mío decidió alquilar esta cosa, suert...         -1   \n",
       "\n",
       "    nltk_score_eng  nltk_score_eng_discrete  nltk_score_es  \\\n",
       "16          0.9897                        1         0.3612   \n",
       "4           0.7552                        1        -0.8807   \n",
       "35         -0.9531                       -1        -0.9571   \n",
       "31          0.8770                        1         0.3400   \n",
       "8          -0.9579                       -1        -0.4215   \n",
       "\n",
       "    nltk_score_es_discrete  \n",
       "16                       1  \n",
       "4                       -1  \n",
       "35                      -1  \n",
       "31                       1  \n",
       "8                       -1  "
      ]
     },
     "execution_count": 29,
     "metadata": {},
     "output_type": "execute_result"
    }
   ],
   "source": [
    "df_nltk_sample['nltk_score_es'] = df_nltk_sample['review_es'].apply(sentiment_analysis)\n",
    "df_nltk_sample['nltk_score_es_discrete'] = df_nltk_sample['nltk_score_es'].apply(score_discrete)\n",
    "\n",
    "df_nltk_sample.head()"
   ]
  },
  {
   "cell_type": "markdown",
   "id": "65192f37-5327-4991-a494-22ea62fae295",
   "metadata": {},
   "source": [
    "#### Based on the plot below, nltk seems to assign more positive ratings to english than spanish, and there seems to be more neutral scores for spanish. there is a higher density of scores at the extremes close to -1 and 1 than in the center"
   ]
  },
  {
   "cell_type": "code",
   "execution_count": 30,
   "id": "f4f7bc14-cdab-43fb-9e38-420dc8c194c0",
   "metadata": {},
   "outputs": [
    {
     "data": {
      "image/png": "[encoded data removed]",
      "text/plain": [
       "<Figure size 432x288 with 1 Axes>"
      ]
     },
     "metadata": {
      "needs_background": "light"
     },
     "output_type": "display_data"
    }
   ],
   "source": [
    "plt.hist(df_nltk_sample['nltk_score_eng'], alpha = 0.5, label = 'english nltk score')\n",
    "plt.hist(df_nltk_sample['nltk_score_es'], alpha = 0.5, label = 'spanish nltk score')\n",
    "plt.legend()\n",
    "plt.show()"
   ]
  },
  {
   "cell_type": "markdown",
   "id": "9e8b19a4",
   "metadata": {},
   "source": [
    "#### Permutating 15 tests to get a distribution for NLTK's accuracy on english text:"
   ]
  },
  {
   "cell_type": "code",
   "execution_count": 31,
   "id": "548df66d-e3db-4701-ad89-0cdace30e204",
   "metadata": {},
   "outputs": [],
   "source": [
    "# run nltk on 15 samples of size 1000\n",
    "\n",
    "nltk_en_values = []\n",
    "for i in range(15):\n",
    "    df_nltk_sample = df_eng_span.sample(n=1000, replace = True)\n",
    "    df_nltk_sample['nltk_score_en'] = df_nltk_sample['review_en'].apply(sentiment_analysis)\n",
    "    df_nltk_sample['nltk_score_en_discrete'] = df_nltk_sample['nltk_score_en'].apply(score_discrete)\n",
    "    acc = df_nltk_sample.query('sentiment == nltk_score_en_discrete').shape[0]/df_nltk_sample.shape[0]\n",
    "    nltk_en_values.append(acc)"
   ]
  },
  {
   "cell_type": "markdown",
   "id": "cd9eb04d",
   "metadata": {},
   "source": [
    "#### Distribution of NLTK's accuracy on sentimental analysis of english text:"
   ]
  },
  {
   "cell_type": "code",
   "execution_count": 32,
   "id": "b68f5a58-38cd-4537-a38b-ea247b3d19e4",
   "metadata": {},
   "outputs": [
    {
     "data": {
      "text/plain": [
       "[0.707,\n",
       " 0.694,\n",
       " 0.722,\n",
       " 0.7,\n",
       " 0.692,\n",
       " 0.698,\n",
       " 0.702,\n",
       " 0.711,\n",
       " 0.717,\n",
       " 0.684,\n",
       " 0.712,\n",
       " 0.71,\n",
       " 0.702,\n",
       " 0.697,\n",
       " 0.717]"
      ]
     },
     "execution_count": 32,
     "metadata": {},
     "output_type": "execute_result"
    }
   ],
   "source": [
    "nltk_en_values"
   ]
  },
  {
   "cell_type": "markdown",
   "id": "1ff7eec3",
   "metadata": {},
   "source": [
    "#### Permutating 15 tests to get a distribution for NLTK's accuracy on spanish text:"
   ]
  },
  {
   "cell_type": "code",
   "execution_count": 33,
   "id": "6cced55c-7903-4726-8c09-e98d233bcfd9",
   "metadata": {},
   "outputs": [],
   "source": [
    "nltk_es_values = []\n",
    "for i in range(15):\n",
    "    df_nltk_sample = df_eng_span.sample(n=1000, replace = True)\n",
    "    df_nltk_sample['nltk_score_es'] = df_nltk_sample['review_es'].apply(sentiment_analysis)\n",
    "    df_nltk_sample['nltk_score_es_discrete'] = df_nltk_sample['nltk_score_es'].apply(score_discrete)\n",
    "    acc = df_nltk_sample.query('sentiment == nltk_score_es_discrete').shape[0]/df_nltk_sample.shape[0]\n",
    "    nltk_es_values.append(acc)"
   ]
  },
  {
   "cell_type": "markdown",
   "id": "6b089fa3",
   "metadata": {},
   "source": [
    "#### Distribution of NLTK's accuracy on sentimental analysis of spanish text:"
   ]
  },
  {
   "cell_type": "code",
   "execution_count": 34,
   "id": "3c436012-e697-45f7-9a64-b42a3cf36c3f",
   "metadata": {},
   "outputs": [
    {
     "data": {
      "text/plain": [
       "[0.647,\n",
       " 0.634,\n",
       " 0.654,\n",
       " 0.644,\n",
       " 0.633,\n",
       " 0.651,\n",
       " 0.634,\n",
       " 0.648,\n",
       " 0.653,\n",
       " 0.663,\n",
       " 0.653,\n",
       " 0.634,\n",
       " 0.68,\n",
       " 0.677,\n",
       " 0.653]"
      ]
     },
     "execution_count": 34,
     "metadata": {},
     "output_type": "execute_result"
    }
   ],
   "source": [
    "nltk_es_values"
   ]
  },
  {
   "cell_type": "markdown",
   "id": "381d6375",
   "metadata": {},
   "source": [
    "___"
   ]
  }
 ],
 "metadata": {
  "kernelspec": {
   "display_name": "Python 3 (ipykernel)",
   "language": "python",
   "name": "python3"
  },
  "language_info": {
   "codemirror_mode": {
    "name": "ipython",
    "version": 3
   },
   "file_extension": ".py",
   "mimetype": "text/x-python",
   "name": "python",
   "nbconvert_exporter": "python",
   "pygments_lexer": "ipython3",
   "version": "3.9.5"
  }
 },
 "nbformat": 4,
 "nbformat_minor": 5
}
